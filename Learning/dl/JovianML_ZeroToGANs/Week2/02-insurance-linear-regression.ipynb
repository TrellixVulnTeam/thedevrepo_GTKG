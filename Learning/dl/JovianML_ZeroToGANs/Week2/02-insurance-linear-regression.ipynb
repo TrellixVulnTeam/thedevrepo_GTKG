{
 "cells": [
  {
   "cell_type": "markdown",
   "metadata": {
    "_cell_guid": "b1076dfc-b9ad-4769-8c92-a6c4dae69d19",
    "_uuid": "8f2839f25d086af736a60e9eeb907d3b93b6e0e5"
   },
   "source": [
    "# Insurance cost prediction using linear regression\n",
    "\n",
    "In this assignment we're going to use information like a person's age, sex, BMI, no. of children and smoking habit to predict the price of yearly medical bills. This kind of model is useful for insurance companies to determine the yearly insurance premium for a person. The dataset for this problem is taken from: https://www.kaggle.com/mirichoi0218/insurance\n",
    "\n",
    "\n",
    "We will create a model with the following steps:\n",
    "1. Download and explore the dataset\n",
    "2. Prepare the dataset for training\n",
    "3. Create a linear regression model\n",
    "4. Train the model to fit the data\n",
    "5. Make predictions using the trained model\n",
    "\n",
    "\n",
    "This assignment builds upon the concepts from the first 2 lectures. It will help to review these Jupyter notebooks:\n",
    "- PyTorch basics: https://jovian.ml/aakashns/01-pytorch-basics\n",
    "- Linear Regression: https://jovian.ml/aakashns/02-linear-regression\n",
    "- Logistic Regression: https://jovian.ml/aakashns/03-logistic-regression\n",
    "- Linear regression (minimal): https://jovian.ml/aakashns/housing-linear-minimal\n",
    "- Logistic regression (minimal): https://jovian.ml/aakashns/mnist-logistic-minimal\n",
    "\n",
    "As you go through this notebook, you will find a **???** in certain places. Your job is to replace the **???** with appropriate code or values, to ensure that the notebook runs properly end-to-end . In some cases, you'll be required to choose some hyperparameters (learning rate, batch size etc.). Try to experiment with the hypeparameters to get the lowest loss.\n"
   ]
  },
  {
   "cell_type": "code",
   "execution_count": 1,
   "metadata": {},
   "outputs": [
    {
     "name": "stdout",
     "output_type": "stream",
     "text": [
      "\u001b[33mWARNING: You are using pip version 20.0.2; however, version 20.1.1 is available.\r\n",
      "You should consider upgrading via the '/home/saileshg/sailspace/dev/pytorch_venv/bin/python3 -m pip install --upgrade pip' command.\u001b[0m\r\n"
     ]
    }
   ],
   "source": [
    "# Uncomment and run the commands below if imports fail\n",
    "# !conda install numpy pytorch torchvision cpuonly -c pytorch -y\n",
    "# !pip install matplotlib --upgrade --quiet\n",
    "!pip install jovian --upgrade --quiet"
   ]
  },
  {
   "cell_type": "code",
   "execution_count": 2,
   "metadata": {},
   "outputs": [],
   "source": [
    "import torch\n",
    "import jovian\n",
    "import torchvision\n",
    "import torch.nn as nn\n",
    "import pandas as pd\n",
    "import matplotlib.pyplot as plt\n",
    "import torch.nn.functional as F\n",
    "from torchvision.datasets.utils import download_url\n",
    "from torch.utils.data import DataLoader, TensorDataset, random_split"
   ]
  },
  {
   "cell_type": "code",
   "execution_count": 3,
   "metadata": {},
   "outputs": [],
   "source": [
    "project_name='02-insurance-linear-regression' # will be used by jovian.commit"
   ]
  },
  {
   "cell_type": "markdown",
   "metadata": {},
   "source": [
    "## Step 1: Download and explore the data\n",
    "\n",
    "Let us begin by downloading the data. We'll use the `download_url` function from PyTorch to get the data as a CSV (comma-separated values) file. "
   ]
  },
  {
   "cell_type": "code",
   "execution_count": 4,
   "metadata": {
    "_cell_guid": "79c7e3d0-c299-4dcb-8224-4455121ee9b0",
    "_uuid": "d629ff2d2480ee46fbb7e2d37f6b5fab8052498a"
   },
   "outputs": [
    {
     "name": "stdout",
     "output_type": "stream",
     "text": [
      "Using downloaded and verified file: data/insurance.csv\n"
     ]
    }
   ],
   "source": [
    "DATASET_URL = \"https://hub.jovian.ml/wp-content/uploads/2020/05/insurance.csv\"\n",
    "DATA_FILENAME = \"insurance.csv\"\n",
    "download_url(DATASET_URL, 'data/')"
   ]
  },
  {
   "cell_type": "markdown",
   "metadata": {},
   "source": [
    "To load the dataset into memory, we'll use the `read_csv` function from the `pandas` library. The data will be loaded as a Pandas dataframe. See this short tutorial to learn more: https://data36.com/pandas-tutorial-1-basics-reading-data-files-dataframes-data-selection/"
   ]
  },
  {
   "cell_type": "code",
   "execution_count": 5,
   "metadata": {},
   "outputs": [
    {
     "data": {
      "text/html": [
       "<div>\n",
       "<style scoped>\n",
       "    .dataframe tbody tr th:only-of-type {\n",
       "        vertical-align: middle;\n",
       "    }\n",
       "\n",
       "    .dataframe tbody tr th {\n",
       "        vertical-align: top;\n",
       "    }\n",
       "\n",
       "    .dataframe thead th {\n",
       "        text-align: right;\n",
       "    }\n",
       "</style>\n",
       "<table border=\"1\" class=\"dataframe\">\n",
       "  <thead>\n",
       "    <tr style=\"text-align: right;\">\n",
       "      <th></th>\n",
       "      <th>age</th>\n",
       "      <th>sex</th>\n",
       "      <th>bmi</th>\n",
       "      <th>children</th>\n",
       "      <th>smoker</th>\n",
       "      <th>region</th>\n",
       "      <th>charges</th>\n",
       "    </tr>\n",
       "  </thead>\n",
       "  <tbody>\n",
       "    <tr>\n",
       "      <th>0</th>\n",
       "      <td>19</td>\n",
       "      <td>female</td>\n",
       "      <td>27.900</td>\n",
       "      <td>0</td>\n",
       "      <td>yes</td>\n",
       "      <td>southwest</td>\n",
       "      <td>16884.92400</td>\n",
       "    </tr>\n",
       "    <tr>\n",
       "      <th>1</th>\n",
       "      <td>18</td>\n",
       "      <td>male</td>\n",
       "      <td>33.770</td>\n",
       "      <td>1</td>\n",
       "      <td>no</td>\n",
       "      <td>southeast</td>\n",
       "      <td>1725.55230</td>\n",
       "    </tr>\n",
       "    <tr>\n",
       "      <th>2</th>\n",
       "      <td>28</td>\n",
       "      <td>male</td>\n",
       "      <td>33.000</td>\n",
       "      <td>3</td>\n",
       "      <td>no</td>\n",
       "      <td>southeast</td>\n",
       "      <td>4449.46200</td>\n",
       "    </tr>\n",
       "    <tr>\n",
       "      <th>3</th>\n",
       "      <td>33</td>\n",
       "      <td>male</td>\n",
       "      <td>22.705</td>\n",
       "      <td>0</td>\n",
       "      <td>no</td>\n",
       "      <td>northwest</td>\n",
       "      <td>21984.47061</td>\n",
       "    </tr>\n",
       "    <tr>\n",
       "      <th>4</th>\n",
       "      <td>32</td>\n",
       "      <td>male</td>\n",
       "      <td>28.880</td>\n",
       "      <td>0</td>\n",
       "      <td>no</td>\n",
       "      <td>northwest</td>\n",
       "      <td>3866.85520</td>\n",
       "    </tr>\n",
       "  </tbody>\n",
       "</table>\n",
       "</div>"
      ],
      "text/plain": [
       "   age     sex     bmi  children smoker     region      charges\n",
       "0   19  female  27.900         0    yes  southwest  16884.92400\n",
       "1   18    male  33.770         1     no  southeast   1725.55230\n",
       "2   28    male  33.000         3     no  southeast   4449.46200\n",
       "3   33    male  22.705         0     no  northwest  21984.47061\n",
       "4   32    male  28.880         0     no  northwest   3866.85520"
      ]
     },
     "execution_count": 5,
     "metadata": {},
     "output_type": "execute_result"
    }
   ],
   "source": [
    "dataframe_raw = pd.read_csv('data/' + DATA_FILENAME)\n",
    "dataframe_raw.head()"
   ]
  },
  {
   "cell_type": "markdown",
   "metadata": {},
   "source": [
    "We're going to do a slight customization of the data, so that you every participant receives a slightly different version of the dataset. Fill in your name below as a string (enter at least 5 characters)"
   ]
  },
  {
   "cell_type": "code",
   "execution_count": 6,
   "metadata": {},
   "outputs": [],
   "source": [
    "your_name = \"gsailesh\" # at least 5 characters"
   ]
  },
  {
   "cell_type": "markdown",
   "metadata": {},
   "source": [
    "The `customize_dataset` function will customize the dataset slightly using your name as a source of random numbers."
   ]
  },
  {
   "cell_type": "code",
   "execution_count": 7,
   "metadata": {},
   "outputs": [],
   "source": [
    "def customize_dataset(dataframe_raw, rand_str):\n",
    "    dataframe = dataframe_raw.copy(deep=True)\n",
    "    # drop some rows\n",
    "    dataframe = dataframe.sample(int(0.95*len(dataframe)), random_state=int(ord(rand_str[0])))\n",
    "    # scale input\n",
    "    dataframe.bmi = dataframe.bmi * ord(rand_str[1])/100.\n",
    "    # scale target\n",
    "    dataframe.charges = dataframe.charges * ord(rand_str[2])/100.\n",
    "    # drop column\n",
    "    if ord(rand_str[3]) % 2 == 1:\n",
    "        dataframe = dataframe.drop(['region'], axis=1)\n",
    "    return dataframe"
   ]
  },
  {
   "cell_type": "code",
   "execution_count": 8,
   "metadata": {},
   "outputs": [
    {
     "data": {
      "text/html": [
       "<div>\n",
       "<style scoped>\n",
       "    .dataframe tbody tr th:only-of-type {\n",
       "        vertical-align: middle;\n",
       "    }\n",
       "\n",
       "    .dataframe tbody tr th {\n",
       "        vertical-align: top;\n",
       "    }\n",
       "\n",
       "    .dataframe thead th {\n",
       "        text-align: right;\n",
       "    }\n",
       "</style>\n",
       "<table border=\"1\" class=\"dataframe\">\n",
       "  <thead>\n",
       "    <tr style=\"text-align: right;\">\n",
       "      <th></th>\n",
       "      <th>age</th>\n",
       "      <th>sex</th>\n",
       "      <th>bmi</th>\n",
       "      <th>children</th>\n",
       "      <th>smoker</th>\n",
       "      <th>charges</th>\n",
       "    </tr>\n",
       "  </thead>\n",
       "  <tbody>\n",
       "    <tr>\n",
       "      <th>426</th>\n",
       "      <td>38</td>\n",
       "      <td>female</td>\n",
       "      <td>31.35475</td>\n",
       "      <td>1</td>\n",
       "      <td>no</td>\n",
       "      <td>6358.418239</td>\n",
       "    </tr>\n",
       "    <tr>\n",
       "      <th>902</th>\n",
       "      <td>26</td>\n",
       "      <td>male</td>\n",
       "      <td>31.35475</td>\n",
       "      <td>3</td>\n",
       "      <td>no</td>\n",
       "      <td>4521.447760</td>\n",
       "    </tr>\n",
       "    <tr>\n",
       "      <th>309</th>\n",
       "      <td>41</td>\n",
       "      <td>female</td>\n",
       "      <td>38.01900</td>\n",
       "      <td>2</td>\n",
       "      <td>no</td>\n",
       "      <td>7516.681708</td>\n",
       "    </tr>\n",
       "    <tr>\n",
       "      <th>515</th>\n",
       "      <td>58</td>\n",
       "      <td>male</td>\n",
       "      <td>41.05500</td>\n",
       "      <td>0</td>\n",
       "      <td>no</td>\n",
       "      <td>11021.872350</td>\n",
       "    </tr>\n",
       "    <tr>\n",
       "      <th>601</th>\n",
       "      <td>51</td>\n",
       "      <td>male</td>\n",
       "      <td>36.38025</td>\n",
       "      <td>0</td>\n",
       "      <td>no</td>\n",
       "      <td>8898.911581</td>\n",
       "    </tr>\n",
       "  </tbody>\n",
       "</table>\n",
       "</div>"
      ],
      "text/plain": [
       "     age     sex       bmi  children smoker       charges\n",
       "426   38  female  31.35475         1     no   6358.418239\n",
       "902   26    male  31.35475         3     no   4521.447760\n",
       "309   41  female  38.01900         2     no   7516.681708\n",
       "515   58    male  41.05500         0     no  11021.872350\n",
       "601   51    male  36.38025         0     no   8898.911581"
      ]
     },
     "execution_count": 8,
     "metadata": {},
     "output_type": "execute_result"
    }
   ],
   "source": [
    "dataframe = customize_dataset(dataframe_raw, your_name)\n",
    "dataframe.head()"
   ]
  },
  {
   "cell_type": "markdown",
   "metadata": {},
   "source": [
    "Let us answer some basic questions about the dataset. \n",
    "\n",
    "\n",
    "**Q: How many rows does the dataset have?**"
   ]
  },
  {
   "cell_type": "code",
   "execution_count": 9,
   "metadata": {},
   "outputs": [
    {
     "name": "stdout",
     "output_type": "stream",
     "text": [
      "1271\n"
     ]
    }
   ],
   "source": [
    "num_rows = dataframe.shape[0]\n",
    "print(num_rows)"
   ]
  },
  {
   "cell_type": "markdown",
   "metadata": {},
   "source": [
    "**Q: How many columns doe the dataset have**"
   ]
  },
  {
   "cell_type": "code",
   "execution_count": 10,
   "metadata": {},
   "outputs": [
    {
     "name": "stdout",
     "output_type": "stream",
     "text": [
      "6\n"
     ]
    }
   ],
   "source": [
    "num_cols = dataframe.shape[1]\n",
    "print(num_cols)"
   ]
  },
  {
   "cell_type": "markdown",
   "metadata": {},
   "source": [
    "**Q: What are the column titles of the input variables?**"
   ]
  },
  {
   "cell_type": "code",
   "execution_count": 11,
   "metadata": {},
   "outputs": [],
   "source": [
    "input_cols = dataframe.drop(['Charges'], axis=1).columns"
   ]
  },
  {
   "cell_type": "markdown",
   "metadata": {},
   "source": [
    "**Q: Which of the input columns are non-numeric or categorial variables ?**\n",
    "\n",
    "Hint: `sex` is one of them. List the columns that are not numbers."
   ]
  },
  {
   "cell_type": "code",
   "execution_count": 12,
   "metadata": {},
   "outputs": [],
   "source": [
    "categorical_cols = dataframe.select_dtypes(include='object').columns"
   ]
  },
  {
   "cell_type": "markdown",
   "metadata": {},
   "source": [
    "**Q: What are the column titles of output/target variable(s)?**"
   ]
  },
  {
   "cell_type": "code",
   "execution_count": 13,
   "metadata": {},
   "outputs": [],
   "source": [
    "output_cols = [\"charges\"]"
   ]
  },
  {
   "cell_type": "markdown",
   "metadata": {},
   "source": [
    "**Q: (Optional) What is the minimum, maximum and average value of the `charges` column? Can you show the distribution of values in a graph?**\n",
    "Use this data visualization cheatsheet for referece: https://jovian.ml/aakashns/dataviz-cheatsheet"
   ]
  },
  {
   "cell_type": "code",
   "execution_count": 14,
   "metadata": {},
   "outputs": [
    {
     "data": {
      "text/html": [
       "<div>\n",
       "<style scoped>\n",
       "    .dataframe tbody tr th:only-of-type {\n",
       "        vertical-align: middle;\n",
       "    }\n",
       "\n",
       "    .dataframe tbody tr th {\n",
       "        vertical-align: top;\n",
       "    }\n",
       "\n",
       "    .dataframe thead th {\n",
       "        text-align: right;\n",
       "    }\n",
       "</style>\n",
       "<table border=\"1\" class=\"dataframe\">\n",
       "  <thead>\n",
       "    <tr style=\"text-align: right;\">\n",
       "      <th></th>\n",
       "      <th>age</th>\n",
       "      <th>bmi</th>\n",
       "      <th>children</th>\n",
       "      <th>charges</th>\n",
       "    </tr>\n",
       "  </thead>\n",
       "  <tbody>\n",
       "    <tr>\n",
       "      <th>count</th>\n",
       "      <td>1271.000000</td>\n",
       "      <td>1271.000000</td>\n",
       "      <td>1271.000000</td>\n",
       "      <td>1271.000000</td>\n",
       "    </tr>\n",
       "    <tr>\n",
       "      <th>mean</th>\n",
       "      <td>39.264359</td>\n",
       "      <td>35.268899</td>\n",
       "      <td>1.105429</td>\n",
       "      <td>13005.180667</td>\n",
       "    </tr>\n",
       "    <tr>\n",
       "      <th>std</th>\n",
       "      <td>14.028295</td>\n",
       "      <td>6.990711</td>\n",
       "      <td>1.214698</td>\n",
       "      <td>11832.409986</td>\n",
       "    </tr>\n",
       "    <tr>\n",
       "      <th>min</th>\n",
       "      <td>18.000000</td>\n",
       "      <td>18.354000</td>\n",
       "      <td>0.000000</td>\n",
       "      <td>1088.217683</td>\n",
       "    </tr>\n",
       "    <tr>\n",
       "      <th>25%</th>\n",
       "      <td>27.000000</td>\n",
       "      <td>30.262250</td>\n",
       "      <td>0.000000</td>\n",
       "      <td>4644.000663</td>\n",
       "    </tr>\n",
       "    <tr>\n",
       "      <th>50%</th>\n",
       "      <td>39.000000</td>\n",
       "      <td>34.960000</td>\n",
       "      <td>1.000000</td>\n",
       "      <td>9203.014874</td>\n",
       "    </tr>\n",
       "    <tr>\n",
       "      <th>75%</th>\n",
       "      <td>51.000000</td>\n",
       "      <td>39.890625</td>\n",
       "      <td>2.000000</td>\n",
       "      <td>16550.344379</td>\n",
       "    </tr>\n",
       "    <tr>\n",
       "      <th>max</th>\n",
       "      <td>64.000000</td>\n",
       "      <td>61.099500</td>\n",
       "      <td>5.000000</td>\n",
       "      <td>61857.315170</td>\n",
       "    </tr>\n",
       "  </tbody>\n",
       "</table>\n",
       "</div>"
      ],
      "text/plain": [
       "               age          bmi     children       charges\n",
       "count  1271.000000  1271.000000  1271.000000   1271.000000\n",
       "mean     39.264359    35.268899     1.105429  13005.180667\n",
       "std      14.028295     6.990711     1.214698  11832.409986\n",
       "min      18.000000    18.354000     0.000000   1088.217683\n",
       "25%      27.000000    30.262250     0.000000   4644.000663\n",
       "50%      39.000000    34.960000     1.000000   9203.014874\n",
       "75%      51.000000    39.890625     2.000000  16550.344379\n",
       "max      64.000000    61.099500     5.000000  61857.315170"
      ]
     },
     "execution_count": 14,
     "metadata": {},
     "output_type": "execute_result"
    }
   ],
   "source": [
    "dataframe.describe()"
   ]
  },
  {
   "cell_type": "code",
   "execution_count": 15,
   "metadata": {},
   "outputs": [
    {
     "name": "stdout",
     "output_type": "stream",
     "text": [
      "Minimum: 1088.22\n",
      "Maximum: 61857.32\n",
      "Mean:13005.18\n",
      "\n",
      "\n"
     ]
    },
    {
     "data": {
      "text/plain": [
       "<matplotlib.axes._subplots.AxesSubplot at 0x7f63d3686ac8>"
      ]
     },
     "execution_count": 15,
     "metadata": {},
     "output_type": "execute_result"
    },
    {
     "data": {
      "image/png": "[encoded data removed]",
      "text/plain": [
       "<Figure size 432x288 with 1 Axes>"
      ]
     },
     "metadata": {
      "needs_background": "light"
     },
     "output_type": "display_data"
    }
   ],
   "source": [
    "# Write your answer here\n",
    "\n",
    "# !pip install seaborn\n",
    "import seaborn as sns\n",
    "\n",
    "minimum = dataframe.describe().loc['min',output_cols].values[0]\n",
    "maximum = dataframe.describe().loc['max',output_cols].values[0]\n",
    "mean = dataframe.describe().loc['mean',output_cols].values[0]\n",
    "\n",
    "print(\"Minimum: {:.2f}\\nMaximum: {:.2f}\\nMean:{:.2f}\\n\\n\".format(minimum, maximum, mean))\n",
    "\n",
    "plt.title(\"Distribution of charges\")\n",
    "sns.distplot(dataframe.charges, bins=10)\n"
   ]
  },
  {
   "cell_type": "markdown",
   "metadata": {},
   "source": [
    "Remember to commit your notebook to Jovian after every step, so that you don't lose your work."
   ]
  },
  {
   "cell_type": "code",
   "execution_count": 16,
   "metadata": {},
   "outputs": [
    {
     "data": {
      "application/javascript": [
       "window.require && require([\"base/js/namespace\"],function(Jupyter){Jupyter.notebook.save_checkpoint()})"
      ],
      "text/plain": [
       "<IPython.core.display.Javascript object>"
      ]
     },
     "metadata": {},
     "output_type": "display_data"
    },
    {
     "name": "stdout",
     "output_type": "stream",
     "text": [
      "[jovian] Attempting to save notebook..\u001b[0m\n",
      "[jovian] Updating notebook \"sailesh-ganeshan/02-insurance-linear-regression\" on https://jovian.ml/\u001b[0m\n",
      "[jovian] Uploading notebook..\u001b[0m\n",
      "[jovian] Committed successfully! https://jovian.ml/sailesh-ganeshan/02-insurance-linear-regression\u001b[0m\n"
     ]
    },
    {
     "data": {
      "text/plain": [
       "'https://jovian.ml/sailesh-ganeshan/02-insurance-linear-regression'"
      ]
     },
     "execution_count": 16,
     "metadata": {},
     "output_type": "execute_result"
    }
   ],
   "source": [
    "jovian.commit(project=project_name, environment=None)"
   ]
  },
  {
   "cell_type": "markdown",
   "metadata": {},
   "source": [
    "## Step 2: Prepare the dataset for training\n",
    "\n",
    "We need to convert the data from the Pandas dataframe into a PyTorch tensors for training. To do this, the first step is to convert it numpy arrays. If you've filled out `input_cols`, `categorial_cols` and `output_cols` correctly, this following function will perform the conversion to numpy arrays."
   ]
  },
  {
   "cell_type": "code",
   "execution_count": 17,
   "metadata": {},
   "outputs": [],
   "source": [
    "def dataframe_to_arrays(dataframe):\n",
    "    # Make a copy of the original dataframe\n",
    "    dataframe1 = dataframe.copy(deep=True)\n",
    "    # Convert non-numeric categorical columns to numbers\n",
    "    for col in categorical_cols:\n",
    "        dataframe1[col] = dataframe1[col].astype('category').cat.codes\n",
    "    # Extract input & outupts as numpy arrays\n",
    "    inputs_array = dataframe1[input_cols].to_numpy()\n",
    "    targets_array = dataframe1[output_cols].to_numpy()\n",
    "\n",
    "    print(inputs_array.shape, targets_array.shape)\n",
    "    return inputs_array, targets_array"
   ]
  },
  {
   "cell_type": "markdown",
   "metadata": {},
   "source": [
    "Read through the [Pandas documentation](https://pandas.pydata.org/pandas-docs/stable/user_guide/categorical.html) to understand how we're converting categorical variables into numbers."
   ]
  },
  {
   "cell_type": "code",
   "execution_count": 18,
   "metadata": {},
   "outputs": [
    {
     "name": "stdout",
     "output_type": "stream",
     "text": [
      "(1271, 6) (1271, 1)\n"
     ]
    },
    {
     "data": {
      "text/plain": [
       "(array([[3.80000000e+01, 0.00000000e+00, 3.13547500e+01, 1.00000000e+00,\n",
       "         0.00000000e+00, 6.35841824e+03],\n",
       "        [2.60000000e+01, 1.00000000e+00, 3.13547500e+01, 3.00000000e+00,\n",
       "         0.00000000e+00, 4.52144776e+03],\n",
       "        [4.10000000e+01, 0.00000000e+00, 3.80190000e+01, 2.00000000e+00,\n",
       "         0.00000000e+00, 7.51668171e+03],\n",
       "        ...,\n",
       "        [2.40000000e+01, 1.00000000e+00, 3.76050000e+01, 0.00000000e+00,\n",
       "         1.00000000e+00, 3.34386558e+04],\n",
       "        [3.10000000e+01, 1.00000000e+00, 2.97850000e+01, 3.00000000e+00,\n",
       "         1.00000000e+00, 1.86239457e+04],\n",
       "        [4.30000000e+01, 1.00000000e+00, 3.46150000e+01, 1.00000000e+00,\n",
       "         0.00000000e+00, 6.64355522e+03]]),\n",
       " array([[ 6358.4182395],\n",
       "        [ 4521.4477595],\n",
       "        [ 7516.681708 ],\n",
       "        ...,\n",
       "        [33438.65577  ],\n",
       "        [18623.94568  ],\n",
       "        [ 6643.55522  ]]))"
      ]
     },
     "execution_count": 18,
     "metadata": {},
     "output_type": "execute_result"
    }
   ],
   "source": [
    "inputs_array, targets_array = dataframe_to_arrays(dataframe)\n",
    "inputs_array, targets_array"
   ]
  },
  {
   "cell_type": "markdown",
   "metadata": {},
   "source": [
    "**Q: Convert the numpy arrays `inputs_array` and `targets_array` into PyTorch tensors. Make sure that the data type is `torch.float32`.**"
   ]
  },
  {
   "cell_type": "code",
   "execution_count": 19,
   "metadata": {},
   "outputs": [],
   "source": [
    "inputs = torch.from_numpy(inputs_array).type(torch.float32)\n",
    "targets = torch.from_numpy(targets_array).type(torch.float32)"
   ]
  },
  {
   "cell_type": "code",
   "execution_count": 20,
   "metadata": {},
   "outputs": [
    {
     "data": {
      "text/plain": [
       "(torch.float32, torch.float32)"
      ]
     },
     "execution_count": 20,
     "metadata": {},
     "output_type": "execute_result"
    }
   ],
   "source": [
    "inputs.dtype, targets.dtype"
   ]
  },
  {
   "cell_type": "markdown",
   "metadata": {},
   "source": [
    "Next, we need to create PyTorch datasets & data loaders for training & validation. We'll start by creating a `TensorDataset`."
   ]
  },
  {
   "cell_type": "code",
   "execution_count": 21,
   "metadata": {},
   "outputs": [],
   "source": [
    "dataset = TensorDataset(inputs, targets)"
   ]
  },
  {
   "cell_type": "markdown",
   "metadata": {},
   "source": [
    "**Q: Pick a number between `0.1` and `0.2` to determine the fraction of data that will be used for creating the validation set. Then use `random_split` to create training & validation datasets. **"
   ]
  },
  {
   "cell_type": "code",
   "execution_count": 22,
   "metadata": {},
   "outputs": [],
   "source": [
    "val_percent = 0.2 # between 0.1 and 0.2\n",
    "val_size = int(num_rows * val_percent)\n",
    "train_size = num_rows - val_size\n",
    "\n",
    "\n",
    "train_ds, val_ds = random_split(dataset, [train_size, val_size]) # Use the random_split function to split dataset into 2 parts of the desired length"
   ]
  },
  {
   "cell_type": "markdown",
   "metadata": {},
   "source": [
    "Finally, we can create data loaders for training & validation.\n",
    "\n",
    "**Q: Pick a batch size for the data loader.**"
   ]
  },
  {
   "cell_type": "code",
   "execution_count": 23,
   "metadata": {},
   "outputs": [],
   "source": [
    "batch_size = 64"
   ]
  },
  {
   "cell_type": "code",
   "execution_count": 24,
   "metadata": {},
   "outputs": [],
   "source": [
    "train_loader = DataLoader(train_ds, batch_size, shuffle=True)\n",
    "val_loader = DataLoader(val_ds, batch_size)"
   ]
  },
  {
   "cell_type": "markdown",
   "metadata": {},
   "source": [
    "Let's look at a batch of data to verify everything is working fine so far."
   ]
  },
  {
   "cell_type": "code",
   "execution_count": 25,
   "metadata": {},
   "outputs": [
    {
     "name": "stdout",
     "output_type": "stream",
     "text": [
      "inputs: tensor([[6.3000e+01, 0.0000e+00, 2.6548e+01, 0.0000e+00, 0.0000e+00, 1.4018e+04],\n",
      "        [4.0000e+01, 0.0000e+00, 2.9279e+01, 1.0000e+00, 0.0000e+00, 6.8649e+03],\n",
      "        [2.0000e+01, 0.0000e+00, 3.5179e+01, 0.0000e+00, 0.0000e+00, 2.3859e+03],\n",
      "        [4.8000e+01, 0.0000e+00, 2.9728e+01, 3.0000e+00, 1.0000e+00, 2.3456e+04],\n",
      "        [4.1000e+01, 0.0000e+00, 3.7490e+01, 3.0000e+00, 0.0000e+00, 7.7159e+03],\n",
      "        [6.3000e+01, 0.0000e+00, 4.0480e+01, 1.0000e+00, 0.0000e+00, 1.4040e+04],\n",
      "        [5.1000e+01, 0.0000e+00, 3.9002e+01, 0.0000e+00, 0.0000e+00, 9.5703e+03],\n",
      "        [5.4000e+01, 1.0000e+00, 4.5540e+01, 1.0000e+00, 0.0000e+00, 1.0137e+04],\n",
      "        [2.3000e+01, 0.0000e+00, 2.7859e+01, 2.0000e+00, 0.0000e+00, 2.1724e+04],\n",
      "        [2.0000e+01, 1.0000e+00, 3.1395e+01, 0.0000e+00, 1.0000e+00, 1.5746e+04],\n",
      "        [2.1000e+01, 0.0000e+00, 2.5128e+01, 1.0000e+00, 1.0000e+00, 1.4898e+04],\n",
      "        [1.8000e+01, 0.0000e+00, 3.0740e+01, 0.0000e+00, 0.0000e+00, 1.5673e+03],\n",
      "        [2.7000e+01, 1.0000e+00, 3.7570e+01, 0.0000e+00, 0.0000e+00, 2.4221e+03],\n",
      "        [2.4000e+01, 1.0000e+00, 3.0809e+01, 1.0000e+00, 0.0000e+00, 1.2232e+04],\n",
      "        [2.2000e+01, 1.0000e+00, 6.0467e+01, 1.0000e+00, 1.0000e+00, 4.3166e+04],\n",
      "        [2.8000e+01, 1.0000e+00, 4.0750e+01, 0.0000e+00, 0.0000e+00, 3.1708e+03],\n",
      "        [5.8000e+01, 1.0000e+00, 3.4851e+01, 0.0000e+00, 0.0000e+00, 1.1580e+04],\n",
      "        [3.2000e+01, 0.0000e+00, 2.0430e+01, 2.0000e+00, 1.0000e+00, 3.1752e+04],\n",
      "        [6.3000e+01, 1.0000e+00, 3.8065e+01, 0.0000e+00, 0.0000e+00, 1.2992e+04],\n",
      "        [3.2000e+01, 0.0000e+00, 3.4028e+01, 1.0000e+00, 0.0000e+00, 4.4260e+03],\n",
      "        [1.9000e+01, 1.0000e+00, 2.0102e+01, 0.0000e+00, 0.0000e+00, 1.5727e+03],\n",
      "        [2.8000e+01, 1.0000e+00, 2.7370e+01, 2.0000e+00, 0.0000e+00, 3.7322e+03],\n",
      "        [2.1000e+01, 1.0000e+00, 3.1464e+01, 0.0000e+00, 0.0000e+00, 2.0410e+03],\n",
      "        [2.4000e+01, 1.0000e+00, 4.1239e+01, 0.0000e+00, 0.0000e+00, 1.9273e+03],\n",
      "        [4.1000e+01, 1.0000e+00, 3.9341e+01, 1.0000e+00, 0.0000e+00, 6.1011e+03],\n",
      "        [1.8000e+01, 1.0000e+00, 3.2775e+01, 0.0000e+00, 0.0000e+00, 1.6609e+03],\n",
      "        [3.6000e+01, 1.0000e+00, 3.3212e+01, 3.0000e+00, 0.0000e+00, 6.5461e+03],\n",
      "        [1.9000e+01, 1.0000e+00, 2.5018e+01, 0.0000e+00, 0.0000e+00, 1.5785e+03],\n",
      "        [3.2000e+01, 1.0000e+00, 3.3270e+01, 1.0000e+00, 1.0000e+00, 1.9128e+04],\n",
      "        [5.1000e+01, 1.0000e+00, 3.7145e+01, 1.0000e+00, 0.0000e+00, 9.6651e+03],\n",
      "        [2.3000e+01, 1.0000e+00, 3.7605e+01, 3.0000e+00, 0.0000e+00, 3.4837e+03],\n",
      "        [3.8000e+01, 1.0000e+00, 3.3649e+01, 2.0000e+00, 0.0000e+00, 6.2641e+03],\n",
      "        [1.9000e+01, 0.0000e+00, 3.8076e+01, 0.0000e+00, 1.0000e+00, 3.3407e+04],\n",
      "        [4.2000e+01, 0.0000e+00, 2.8733e+01, 2.0000e+00, 0.0000e+00, 7.7765e+03],\n",
      "        [5.0000e+01, 0.0000e+00, 3.8755e+01, 4.0000e+00, 0.0000e+00, 1.0960e+04],\n",
      "        [2.8000e+01, 0.0000e+00, 3.3212e+01, 1.0000e+00, 0.0000e+00, 4.2076e+03],\n",
      "        [5.8000e+01, 0.0000e+00, 3.7910e+01, 0.0000e+00, 0.0000e+00, 1.2058e+04],\n",
      "        [2.1000e+01, 0.0000e+00, 2.0010e+01, 1.0000e+00, 0.0000e+00, 2.5077e+03],\n",
      "        [4.3000e+01, 0.0000e+00, 3.9767e+01, 1.0000e+00, 0.0000e+00, 7.4954e+03],\n",
      "        [6.2000e+01, 1.0000e+00, 4.4654e+01, 0.0000e+00, 0.0000e+00, 1.2592e+04],\n",
      "        [1.8000e+01, 0.0000e+00, 4.2883e+01, 1.0000e+00, 0.0000e+00, 2.1529e+03],\n",
      "        [6.3000e+01, 0.0000e+00, 3.7030e+01, 2.0000e+00, 1.0000e+00, 4.5886e+04],\n",
      "        [2.5000e+01, 1.0000e+00, 2.7485e+01, 5.0000e+00, 0.0000e+00, 4.9277e+03],\n",
      "        [3.6000e+01, 0.0000e+00, 2.5455e+01, 3.0000e+00, 0.0000e+00, 7.0114e+03],\n",
      "        [2.4000e+01, 1.0000e+00, 3.6812e+01, 0.0000e+00, 0.0000e+00, 1.9221e+03],\n",
      "        [5.6000e+01, 0.0000e+00, 3.7145e+01, 3.0000e+00, 0.0000e+00, 1.3027e+04],\n",
      "        [2.7000e+01, 1.0000e+00, 3.7473e+01, 3.0000e+00, 0.0000e+00, 4.7015e+03],\n",
      "        [1.8000e+01, 1.0000e+00, 3.3776e+01, 1.0000e+00, 0.0000e+00, 1.6679e+03],\n",
      "        [3.9000e+01, 0.0000e+00, 4.8070e+01, 0.0000e+00, 0.0000e+00, 5.4924e+03],\n",
      "        [5.9000e+01, 0.0000e+00, 4.0480e+01, 0.0000e+00, 0.0000e+00, 1.1877e+04],\n",
      "        [3.4000e+01, 0.0000e+00, 3.1878e+01, 0.0000e+00, 0.0000e+00, 4.2827e+03],\n",
      "        [4.6000e+01, 0.0000e+00, 4.0860e+01, 0.0000e+00, 1.0000e+00, 4.0848e+04],\n",
      "        [5.0000e+01, 0.0000e+00, 3.4632e+01, 1.0000e+00, 0.0000e+00, 9.6130e+03],\n",
      "        [5.9000e+01, 0.0000e+00, 3.1625e+01, 0.0000e+00, 0.0000e+00, 1.1867e+04],\n",
      "        [4.8000e+01, 1.0000e+00, 4.2883e+01, 2.0000e+00, 0.0000e+00, 8.7088e+03],\n",
      "        [4.7000e+01, 1.0000e+00, 4.4781e+01, 2.0000e+00, 1.0000e+00, 4.2877e+04],\n",
      "        [2.6000e+01, 1.0000e+00, 3.4500e+01, 1.0000e+00, 0.0000e+00, 2.8170e+03],\n",
      "        [5.5000e+01, 0.0000e+00, 3.4661e+01, 2.0000e+00, 0.0000e+00, 1.1526e+04],\n",
      "        [1.8000e+01, 0.0000e+00, 3.0262e+01, 0.0000e+00, 0.0000e+00, 2.1322e+03],\n",
      "        [4.8000e+01, 1.0000e+00, 3.4155e+01, 0.0000e+00, 0.0000e+00, 7.5559e+03],\n",
      "        [2.8000e+01, 0.0000e+00, 2.9670e+01, 0.0000e+00, 0.0000e+00, 3.0666e+03],\n",
      "        [5.9000e+01, 1.0000e+00, 3.1625e+01, 1.0000e+00, 0.0000e+00, 1.1964e+04],\n",
      "        [5.7000e+01, 1.0000e+00, 3.8674e+01, 1.0000e+00, 0.0000e+00, 1.1587e+04],\n",
      "        [2.7000e+01, 0.0000e+00, 2.6691e+01, 1.0000e+00, 0.0000e+00, 3.4550e+03]])\n",
      "targets: tensor([[14018.2803],\n",
      "        [ 6864.8735],\n",
      "        [ 2385.9285],\n",
      "        [23455.5059],\n",
      "        [ 7715.8813],\n",
      "        [14040.4346],\n",
      "        [ 9570.3154],\n",
      "        [10137.0352],\n",
      "        [21723.8711],\n",
      "        [15745.8613],\n",
      "        [14898.3311],\n",
      "        [ 1567.2937],\n",
      "        [ 2422.1272],\n",
      "        [12231.5908],\n",
      "        [43166.3555],\n",
      "        [ 3170.7812],\n",
      "        [11580.1084],\n",
      "        [31752.1602],\n",
      "        [12991.9434],\n",
      "        [ 4425.9570],\n",
      "        [ 1572.7000],\n",
      "        [ 3732.2439],\n",
      "        [ 2040.9900],\n",
      "        [ 1927.3254],\n",
      "        [ 6101.0620],\n",
      "        [ 1660.8602],\n",
      "        [ 6546.1333],\n",
      "        [ 1578.4640],\n",
      "        [19128.1035],\n",
      "        [ 9665.1387],\n",
      "        [ 3483.7356],\n",
      "        [ 6264.1079],\n",
      "        [33406.6602],\n",
      "        [ 7776.5493],\n",
      "        [10960.3623],\n",
      "        [ 4207.6030],\n",
      "        [12058.0244],\n",
      "        [ 2507.7109],\n",
      "        [ 7495.4355],\n",
      "        [12591.9053],\n",
      "        [ 2152.8618],\n",
      "        [45886.1445],\n",
      "        [ 4927.6934],\n",
      "        [ 7011.3691],\n",
      "        [ 1922.1344],\n",
      "        [13027.3574],\n",
      "        [ 4701.5127],\n",
      "        [ 1667.8533],\n",
      "        [ 5492.3584],\n",
      "        [11877.1953],\n",
      "        [ 4282.7041],\n",
      "        [40848.3164],\n",
      "        [ 9613.0488],\n",
      "        [11866.8135],\n",
      "        [ 8708.8398],\n",
      "        [42876.5742],\n",
      "        [ 2816.9653],\n",
      "        [11525.5107],\n",
      "        [ 2132.2441],\n",
      "        [ 7555.9458],\n",
      "        [ 3066.6104],\n",
      "        [11963.8135],\n",
      "        [11586.7783],\n",
      "        [ 3455.0322]])\n"
     ]
    }
   ],
   "source": [
    "for xb, yb in train_loader:\n",
    "    print(\"inputs:\", xb)\n",
    "    print(\"targets:\", yb)\n",
    "    break"
   ]
  },
  {
   "cell_type": "markdown",
   "metadata": {},
   "source": [
    "Let's save our work by committing to Jovian."
   ]
  },
  {
   "cell_type": "code",
   "execution_count": 26,
   "metadata": {},
   "outputs": [
    {
     "data": {
      "application/javascript": [
       "window.require && require([\"base/js/namespace\"],function(Jupyter){Jupyter.notebook.save_checkpoint()})"
      ],
      "text/plain": [
       "<IPython.core.display.Javascript object>"
      ]
     },
     "metadata": {},
     "output_type": "display_data"
    },
    {
     "name": "stdout",
     "output_type": "stream",
     "text": [
      "[jovian] Attempting to save notebook..\u001b[0m\n",
      "[jovian] Updating notebook \"sailesh-ganeshan/02-insurance-linear-regression\" on https://jovian.ml/\u001b[0m\n",
      "[jovian] Uploading notebook..\u001b[0m\n",
      "[jovian] Committed successfully! https://jovian.ml/sailesh-ganeshan/02-insurance-linear-regression\u001b[0m\n"
     ]
    },
    {
     "data": {
      "text/plain": [
       "'https://jovian.ml/sailesh-ganeshan/02-insurance-linear-regression'"
      ]
     },
     "execution_count": 26,
     "metadata": {},
     "output_type": "execute_result"
    }
   ],
   "source": [
    "jovian.commit(project=project_name, environment=None)"
   ]
  },
  {
   "cell_type": "markdown",
   "metadata": {},
   "source": [
    "## Step 3: Create a Linear Regression Model\n",
    "\n",
    "Our model itself is a fairly straightforward linear regression (we'll build more complex models in the next assignment). \n"
   ]
  },
  {
   "cell_type": "code",
   "execution_count": 27,
   "metadata": {},
   "outputs": [],
   "source": [
    "input_size = len(input_cols)\n",
    "output_size = len(output_cols)"
   ]
  },
  {
   "cell_type": "markdown",
   "metadata": {},
   "source": [
    "**Q: Complete the class definition below by filling out the constructor (`__init__`), `forward`, `training_step` and `validation_step` methods.**\n",
    "\n",
    "Hint: Think carefully about picking a good loss fuction (it's not cross entropy). Maybe try 2-3 of them and see which one works best. See https://pytorch.org/docs/stable/nn.functional.html#loss-functions"
   ]
  },
  {
   "cell_type": "code",
   "execution_count": 28,
   "metadata": {},
   "outputs": [],
   "source": [
    "class InsuranceModel(nn.Module):\n",
    "    def __init__(self):\n",
    "        super().__init__()\n",
    "        self.linear = nn.Linear(input_size, output_size)                  # fill this (hint: use input_size & output_size defined above)\n",
    "        \n",
    "    def forward(self, xb):\n",
    "        out = self.linear(xb)                          # fill this\n",
    "        return out\n",
    "    \n",
    "    def training_step(self, batch):\n",
    "        inputs, targets = batch \n",
    "        # Generate predictions\n",
    "        out = self(inputs)          \n",
    "        # Calcuate loss\n",
    "        loss = F.l1_loss(out, targets)                          # fill this\n",
    "        return loss\n",
    "    \n",
    "    def validation_step(self, batch):\n",
    "        inputs, targets = batch\n",
    "        # Generate predictions\n",
    "        out = self(inputs)\n",
    "        # Calculate loss\n",
    "        loss = F.l1_loss(out, targets)                           # fill this    \n",
    "        return {'val_loss': loss.detach()}\n",
    "        \n",
    "    def validation_epoch_end(self, outputs):\n",
    "        batch_losses = [x['val_loss'] for x in outputs]\n",
    "        epoch_loss = torch.stack(batch_losses).mean()   # Combine losses\n",
    "        return {'val_loss': epoch_loss.item()}\n",
    "    \n",
    "    def epoch_end(self, epoch, result, num_epochs):\n",
    "        # Print result every 20th epoch\n",
    "        if (epoch+1) % 20 == 0 or epoch == num_epochs-1:\n",
    "            print(\"Epoch [{}], val_loss: {:.4f}\".format(epoch+1, result['val_loss']))"
   ]
  },
  {
   "cell_type": "markdown",
   "metadata": {},
   "source": [
    "Let us create a model using the `InsuranceModel` class. You may need to come back later and re-run the next cell to reinitialize the model, in case the loss becomes `nan` or `infinity`."
   ]
  },
  {
   "cell_type": "code",
   "execution_count": 29,
   "metadata": {},
   "outputs": [],
   "source": [
    "model = InsuranceModel()"
   ]
  },
  {
   "cell_type": "markdown",
   "metadata": {},
   "source": [
    "Let's check out the weights and biases of the model using `model.parameters`."
   ]
  },
  {
   "cell_type": "code",
   "execution_count": 30,
   "metadata": {},
   "outputs": [
    {
     "data": {
      "text/plain": [
       "[Parameter containing:\n",
       " tensor([[-0.0459, -0.2439, -0.2605, -0.2918,  0.2502, -0.0808]],\n",
       "        requires_grad=True),\n",
       " Parameter containing:\n",
       " tensor([0.2316], requires_grad=True)]"
      ]
     },
     "execution_count": 30,
     "metadata": {},
     "output_type": "execute_result"
    }
   ],
   "source": [
    "list(model.parameters())"
   ]
  },
  {
   "cell_type": "markdown",
   "metadata": {},
   "source": [
    "One final commit before we train the model."
   ]
  },
  {
   "cell_type": "code",
   "execution_count": 31,
   "metadata": {},
   "outputs": [
    {
     "data": {
      "application/javascript": [
       "window.require && require([\"base/js/namespace\"],function(Jupyter){Jupyter.notebook.save_checkpoint()})"
      ],
      "text/plain": [
       "<IPython.core.display.Javascript object>"
      ]
     },
     "metadata": {},
     "output_type": "display_data"
    },
    {
     "name": "stdout",
     "output_type": "stream",
     "text": [
      "[jovian] Attempting to save notebook..\u001b[0m\n",
      "[jovian] Updating notebook \"sailesh-ganeshan/02-insurance-linear-regression\" on https://jovian.ml/\u001b[0m\n",
      "[jovian] Uploading notebook..\u001b[0m\n",
      "[jovian] Committed successfully! https://jovian.ml/sailesh-ganeshan/02-insurance-linear-regression\u001b[0m\n"
     ]
    },
    {
     "data": {
      "text/plain": [
       "'https://jovian.ml/sailesh-ganeshan/02-insurance-linear-regression'"
      ]
     },
     "execution_count": 31,
     "metadata": {},
     "output_type": "execute_result"
    }
   ],
   "source": [
    "jovian.commit(project=project_name, environment=None)"
   ]
  },
  {
   "cell_type": "markdown",
   "metadata": {},
   "source": [
    "## Step 4: Train the model to fit the data\n",
    "\n",
    "To train our model, we'll use the same `fit` function explained in the lecture. That's the benefit of defining a generic training loop - you can use it for any problem."
   ]
  },
  {
   "cell_type": "code",
   "execution_count": 32,
   "metadata": {},
   "outputs": [],
   "source": [
    "def evaluate(model, val_loader):\n",
    "    outputs = [model.validation_step(batch) for batch in val_loader]\n",
    "    return model.validation_epoch_end(outputs)\n",
    "\n",
    "def fit(epochs, lr, model, train_loader, val_loader, opt_func=torch.optim.SGD):\n",
    "    history = []\n",
    "    optimizer = opt_func(model.parameters(), lr)\n",
    "    for epoch in range(epochs):\n",
    "        # Training Phase \n",
    "        for batch in train_loader:\n",
    "            loss = model.training_step(batch)\n",
    "            loss.backward()\n",
    "            optimizer.step()\n",
    "            optimizer.zero_grad()\n",
    "        # Validation phase\n",
    "        result = evaluate(model, val_loader)\n",
    "        model.epoch_end(epoch, result, epochs)\n",
    "        history.append(result)\n",
    "    return history"
   ]
  },
  {
   "cell_type": "markdown",
   "metadata": {},
   "source": [
    "**Q: Use the `evaluate` function to calculate the loss on the validation set before training.**"
   ]
  },
  {
   "cell_type": "code",
   "execution_count": 33,
   "metadata": {},
   "outputs": [
    {
     "name": "stdout",
     "output_type": "stream",
     "text": [
      "{'val_loss': 15041.126953125}\n"
     ]
    }
   ],
   "source": [
    "result = evaluate(model, val_loader) # Use the the evaluate function\n",
    "print(result)"
   ]
  },
  {
   "cell_type": "markdown",
   "metadata": {},
   "source": [
    "\n",
    "We are now ready to train the model. You may need to run the training loop many times, for different number of epochs and with different learning rates, to get a good result. Also, if your loss becomes too large (or `nan`), you may have to re-initialize the model by running the cell `model = InsuranceModel()`. Experiment with this for a while, and try to get to as low a loss as possible."
   ]
  },
  {
   "cell_type": "markdown",
   "metadata": {},
   "source": [
    "**Q: Train the model 4-5 times with different learning rates & for different number of epochs.**\n",
    "\n",
    "Hint: Vary learning rates by orders of 10 (e.g. `1e-2`, `1e-3`, `1e-4`, `1e-5`, `1e-6`) to figure out what works."
   ]
  },
  {
   "cell_type": "code",
   "execution_count": 34,
   "metadata": {},
   "outputs": [],
   "source": [
    "# model = InsuranceModel()"
   ]
  },
  {
   "cell_type": "code",
   "execution_count": 35,
   "metadata": {
    "scrolled": true
   },
   "outputs": [
    {
     "name": "stdout",
     "output_type": "stream",
     "text": [
      "Epoch [20], val_loss: 678275.1250\n",
      "Epoch [40], val_loss: 292608.6875\n",
      "Epoch [60], val_loss: 540723.0625\n",
      "Epoch [80], val_loss: 1877027.6250\n",
      "Epoch [100], val_loss: 176042.2500\n"
     ]
    }
   ],
   "source": [
    "epochs = 100\n",
    "lr = 1e-2\n",
    "history1 = fit(epochs, lr, model, train_loader, val_loader)"
   ]
  },
  {
   "cell_type": "code",
   "execution_count": 36,
   "metadata": {},
   "outputs": [
    {
     "name": "stdout",
     "output_type": "stream",
     "text": [
      "Epoch [20], val_loss: 119192.7188\n",
      "Epoch [40], val_loss: 62342.3047\n",
      "Epoch [60], val_loss: 5477.0083\n",
      "Epoch [80], val_loss: 143.4436\n",
      "Epoch [100], val_loss: 122.9455\n",
      "Epoch [120], val_loss: 126.9485\n"
     ]
    }
   ],
   "source": [
    "epochs = 120\n",
    "lr = 1e-6\n",
    "history2 = fit(epochs, lr, model, train_loader, val_loader)"
   ]
  },
  {
   "cell_type": "code",
   "execution_count": 37,
   "metadata": {},
   "outputs": [
    {
     "name": "stdout",
     "output_type": "stream",
     "text": [
      "Epoch [20], val_loss: 119.2164\n",
      "Epoch [40], val_loss: 119.0938\n",
      "Epoch [60], val_loss: 119.1478\n",
      "Epoch [80], val_loss: 119.0179\n",
      "Epoch [100], val_loss: 119.3726\n",
      "Epoch [120], val_loss: 118.9920\n",
      "Epoch [140], val_loss: 118.9079\n",
      "Epoch [160], val_loss: 119.1275\n",
      "Epoch [180], val_loss: 118.9591\n",
      "Epoch [200], val_loss: 118.8165\n"
     ]
    }
   ],
   "source": [
    "epochs = 200\n",
    "lr = 1e-7\n",
    "history3 = fit(epochs, lr, model, train_loader, val_loader)"
   ]
  },
  {
   "cell_type": "code",
   "execution_count": 38,
   "metadata": {
    "scrolled": true
   },
   "outputs": [
    {
     "name": "stdout",
     "output_type": "stream",
     "text": [
      "Epoch [20], val_loss: 149670.6406\n",
      "Epoch [40], val_loss: 148291.8281\n",
      "Epoch [60], val_loss: 80778.6562\n",
      "Epoch [80], val_loss: 29832.3359\n",
      "Epoch [100], val_loss: 8281.8809\n",
      "Epoch [120], val_loss: 192472.2500\n",
      "Epoch [140], val_loss: 116133.9766\n",
      "Epoch [160], val_loss: 154675.1875\n",
      "Epoch [180], val_loss: 57428.8125\n",
      "Epoch [200], val_loss: 33243.6055\n",
      "Epoch [220], val_loss: 168675.3594\n",
      "Epoch [240], val_loss: 14590.4512\n",
      "Epoch [260], val_loss: 72562.0469\n",
      "Epoch [280], val_loss: 133857.2344\n",
      "Epoch [300], val_loss: 78689.1562\n"
     ]
    }
   ],
   "source": [
    "epochs = 300\n",
    "lr = 1e-3\n",
    "history5 = fit(epochs, lr, model, train_loader, val_loader)"
   ]
  },
  {
   "cell_type": "code",
   "execution_count": 48,
   "metadata": {},
   "outputs": [
    {
     "name": "stdout",
     "output_type": "stream",
     "text": [
      "Epoch [20], val_loss: 106.9886\n",
      "Epoch [40], val_loss: 106.6788\n",
      "Epoch [60], val_loss: 107.3955\n",
      "Epoch [80], val_loss: 106.6499\n",
      "Epoch [100], val_loss: 106.7629\n",
      "Epoch [120], val_loss: 106.5693\n",
      "Epoch [140], val_loss: 106.9622\n",
      "Epoch [160], val_loss: 106.6073\n",
      "Epoch [180], val_loss: 106.5371\n",
      "Epoch [200], val_loss: 106.8048\n",
      "Epoch [220], val_loss: 106.3818\n",
      "Epoch [240], val_loss: 107.3400\n",
      "Epoch [260], val_loss: 106.3190\n",
      "Epoch [280], val_loss: 106.3213\n",
      "Epoch [300], val_loss: 106.3491\n",
      "Epoch [320], val_loss: 106.2247\n",
      "Epoch [340], val_loss: 106.2804\n",
      "Epoch [350], val_loss: 106.1819\n"
     ]
    }
   ],
   "source": [
    "epochs = 350\n",
    "lr = 1e-7\n",
    "history4 = fit(epochs, lr, model, train_loader, val_loader)"
   ]
  },
  {
   "cell_type": "markdown",
   "metadata": {},
   "source": [
    "**Q: What is the final validation loss of your model?**"
   ]
  },
  {
   "cell_type": "code",
   "execution_count": 49,
   "metadata": {},
   "outputs": [],
   "source": [
    "val_loss = evaluate(model, val_loader)"
   ]
  },
  {
   "cell_type": "markdown",
   "metadata": {},
   "source": [
    "Let's log the final validation loss to Jovian and commit the notebook"
   ]
  },
  {
   "cell_type": "code",
   "execution_count": 50,
   "metadata": {},
   "outputs": [
    {
     "name": "stdout",
     "output_type": "stream",
     "text": [
      "[jovian] Metrics logged.\u001b[0m\n"
     ]
    }
   ],
   "source": [
    "jovian.log_metrics(val_loss=val_loss)"
   ]
  },
  {
   "cell_type": "code",
   "execution_count": 51,
   "metadata": {},
   "outputs": [
    {
     "data": {
      "application/javascript": [
       "window.require && require([\"base/js/namespace\"],function(Jupyter){Jupyter.notebook.save_checkpoint()})"
      ],
      "text/plain": [
       "<IPython.core.display.Javascript object>"
      ]
     },
     "metadata": {},
     "output_type": "display_data"
    },
    {
     "name": "stdout",
     "output_type": "stream",
     "text": [
      "[jovian] Attempting to save notebook..\u001b[0m\n",
      "[jovian] Updating notebook \"sailesh-ganeshan/02-insurance-linear-regression\" on https://jovian.ml/\u001b[0m\n",
      "[jovian] Uploading notebook..\u001b[0m\n",
      "[jovian] Attaching records (metrics, hyperparameters, dataset etc.)\u001b[0m\n",
      "[jovian] Committed successfully! https://jovian.ml/sailesh-ganeshan/02-insurance-linear-regression\u001b[0m\n"
     ]
    },
    {
     "data": {
      "text/plain": [
       "'https://jovian.ml/sailesh-ganeshan/02-insurance-linear-regression'"
      ]
     },
     "execution_count": 51,
     "metadata": {},
     "output_type": "execute_result"
    }
   ],
   "source": [
    "jovian.commit(project=project_name, environment=None)"
   ]
  },
  {
   "cell_type": "markdown",
   "metadata": {},
   "source": [
    "Now scroll back up, re-initialize the model, and try different set of values for batch size, number of epochs, learning rate etc. Commit each experiment and use the \"Compare\" and \"View Diff\" options on Jovian to compare the different results."
   ]
  },
  {
   "cell_type": "markdown",
   "metadata": {},
   "source": [
    "## Step 5: Make predictions using the trained model\n",
    "\n",
    "**Q: Complete the following function definition to make predictions on a single input**"
   ]
  },
  {
   "cell_type": "code",
   "execution_count": 52,
   "metadata": {},
   "outputs": [],
   "source": [
    "def predict_single(input, target, model):\n",
    "    inputs = input.unsqueeze(0)\n",
    "    predictions = model(inputs)              # fill this\n",
    "    prediction = predictions[0].detach()\n",
    "    print(\"Input:\", input)\n",
    "    print(\"Target:\", target)\n",
    "    print(\"Prediction:\", prediction)"
   ]
  },
  {
   "cell_type": "code",
   "execution_count": 53,
   "metadata": {},
   "outputs": [
    {
     "name": "stdout",
     "output_type": "stream",
     "text": [
      "Input: tensor([3.7000e+01, 1.0000e+00, 4.2631e+01, 1.0000e+00, 1.0000e+00, 3.8676e+04])\n",
      "Target: tensor([38675.5547])\n",
      "Prediction: tensor([38797.3125])\n"
     ]
    }
   ],
   "source": [
    "input, target = val_ds[0]\n",
    "predict_single(input, target, model)"
   ]
  },
  {
   "cell_type": "code",
   "execution_count": 54,
   "metadata": {},
   "outputs": [
    {
     "name": "stdout",
     "output_type": "stream",
     "text": [
      "Input: tensor([1.8000e+01, 1.0000e+00, 3.4535e+01, 1.0000e+00, 0.0000e+00, 1.6687e+03])\n",
      "Target: tensor([1668.7430])\n",
      "Prediction: tensor([1552.2572])\n"
     ]
    }
   ],
   "source": [
    "input, target = val_ds[10]\n",
    "predict_single(input, target, model)"
   ]
  },
  {
   "cell_type": "code",
   "execution_count": 55,
   "metadata": {},
   "outputs": [
    {
     "name": "stdout",
     "output_type": "stream",
     "text": [
      "Input: tensor([2.4000e+01, 0.0000e+00, 3.4742e+01, 3.0000e+00, 0.0000e+00, 4.4795e+03])\n",
      "Target: tensor([4479.5376])\n",
      "Prediction: tensor([4371.4028])\n"
     ]
    }
   ],
   "source": [
    "input, target = val_ds[23]\n",
    "predict_single(input, target, model)"
   ]
  },
  {
   "cell_type": "markdown",
   "metadata": {},
   "source": [
    "Are you happy with your model's predictions? Try to improve them further."
   ]
  },
  {
   "cell_type": "markdown",
   "metadata": {},
   "source": [
    "## (Optional) Step 6: Try another dataset & blog about it\n",
    "\n",
    "While this last step is optional for the submission of your assignment, we highly recommend that you do it. Try to clean up & replicate this notebook (or [this one](https://jovian.ml/aakashns/housing-linear-minimal), or [this one](https://jovian.ml/aakashns/mnist-logistic-minimal) ) for a different linear regression or logistic regression problem. This will help solidify your understanding, and give you a chance to differentiate the generic patters in machine learning from problem-specific details.\n",
    "\n",
    "Here are some sources to find good datasets:\n",
    "\n",
    "- https://lionbridge.ai/datasets/10-open-datasets-for-linear-regression/\n",
    "- https://www.kaggle.com/rtatman/datasets-for-regression-analysis\n",
    "- https://archive.ics.uci.edu/ml/datasets.php?format=&task=reg&att=&area=&numAtt=&numIns=&type=&sort=nameUp&view=table\n",
    "- https://people.sc.fsu.edu/~jburkardt/datasets/regression/regression.html\n",
    "- https://archive.ics.uci.edu/ml/datasets/wine+quality\n",
    "- https://pytorch.org/docs/stable/torchvision/datasets.html\n",
    "\n",
    "We also recommend that you write a blog about your approach to the problem. Here is a suggested structure for your post (feel free to experiment with it):\n",
    "\n",
    "- Interesting title & subtitle\n",
    "- Overview of what the blog covers (which dataset, linear regression or logistic regression, intro to PyTorch)\n",
    "- Downloading & exploring the data\n",
    "- Preparing the data for training\n",
    "- Creating a model using PyTorch\n",
    "- Training the model to fit the data\n",
    "- Your thoughts on how to experiment with different hyperparmeters to reduce loss\n",
    "- Making predictions using the model\n",
    "\n",
    "As with the previous assignment, you can [embed Juptyer notebook cells & outputs from Jovian](https://medium.com/jovianml/share-and-embed-jupyter-notebooks-online-with-jovian-ml-df709a03064e) into your blog. \n",
    "\n",
    "Don't forget to share your work on the forum: https://jovian.ml/forum/t/share-your-work-here-assignment-2/4931"
   ]
  },
  {
   "cell_type": "code",
   "execution_count": 56,
   "metadata": {
    "scrolled": true
   },
   "outputs": [
    {
     "data": {
      "application/javascript": [
       "window.require && require([\"base/js/namespace\"],function(Jupyter){Jupyter.notebook.save_checkpoint()})"
      ],
      "text/plain": [
       "<IPython.core.display.Javascript object>"
      ]
     },
     "metadata": {},
     "output_type": "display_data"
    },
    {
     "name": "stdout",
     "output_type": "stream",
     "text": [
      "[jovian] Attempting to save notebook..\u001b[0m\n",
      "[jovian] Updating notebook \"sailesh-ganeshan/02-insurance-linear-regression\" on https://jovian.ml/\u001b[0m\n",
      "[jovian] Uploading notebook..\u001b[0m\n",
      "[jovian] Attaching records (metrics, hyperparameters, dataset etc.)\u001b[0m\n",
      "[jovian] Committed successfully! https://jovian.ml/sailesh-ganeshan/02-insurance-linear-regression\u001b[0m\n"
     ]
    },
    {
     "data": {
      "text/plain": [
       "'https://jovian.ml/sailesh-ganeshan/02-insurance-linear-regression'"
      ]
     },
     "execution_count": 56,
     "metadata": {},
     "output_type": "execute_result"
    }
   ],
   "source": [
    "jovian.commit(project=project_name, environment=None)\n",
    "# jovian.commit(project=project_name, environment=None) # try again, kaggle fails sometimes"
   ]
  },
  {
   "cell_type": "code",
   "execution_count": null,
   "metadata": {},
   "outputs": [],
   "source": []
  }
 ],
 "metadata": {
  "kernelspec": {
   "display_name": "Python 3",
   "language": "python",
   "name": "python3"
  },
  "language_info": {
   "codemirror_mode": {
    "name": "ipython",
    "version": 3
   },
   "file_extension": ".py",
   "mimetype": "text/x-python",
   "name": "python",
   "nbconvert_exporter": "python",
   "pygments_lexer": "ipython3",
   "version": "3.6.9"
  }
 },
 "nbformat": 4,
 "nbformat_minor": 4
}
