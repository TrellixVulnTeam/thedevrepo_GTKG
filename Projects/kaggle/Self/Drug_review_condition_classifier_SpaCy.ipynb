{
  "nbformat": 4,
  "nbformat_minor": 0,
  "metadata": {
    "colab": {
      "name": "Drug_review_condition_classifier_SpaCy.ipynb",
      "provenance": [],
      "collapsed_sections": []
    },
    "kernelspec": {
      "name": "python3",
      "display_name": "Python 3"
    },
    "accelerator": "GPU"
  },
  "cells": [
    {
      "cell_type": "code",
      "metadata": {
        "id": "Voc_7j3u1w0D",
        "colab_type": "code",
        "colab": {}
      },
      "source": [
        "import pandas as pd\n",
        "import numpy as np\n",
        "import matplotlib.pyplot as plt\n",
        "import string\n",
        "import spacy\n",
        "import random\n",
        "from sklearn.utils import shuffle\n",
        "from spacy.pipeline import TextCategorizer\n",
        "from spacy.util import minibatch, compounding\n",
        "from spacy.lang.en.stop_words import STOP_WORDS"
      ],
      "execution_count": 0,
      "outputs": []
    },
    {
      "cell_type": "code",
      "metadata": {
        "id": "u-AY0eed16hE",
        "colab_type": "code",
        "colab": {}
      },
      "source": [
        "# !python -m spacy download en_core_web_md\n",
        "model = spacy.load(\"en_core_web_sm\")"
      ],
      "execution_count": 0,
      "outputs": []
    },
    {
      "cell_type": "code",
      "metadata": {
        "id": "MZ5t_-Hp360k",
        "colab_type": "code",
        "colab": {
          "base_uri": "https://localhost:8080/",
          "height": 124
        },
        "outputId": "6a7be9d6-98c1-4606-9d08-098760516327"
      },
      "source": [
        "from google.colab import drive\n",
        "drive.mount('/content/gdrive')"
      ],
      "execution_count": 5,
      "outputs": [
        {
          "output_type": "stream",
          "text": [
            "Go to this URL in a browser: https://accounts.google.com/o/oauth2/auth?client_id=947318989803-6bn6qk8qdgf4n4g3pfee6491hc0brc4i.apps.googleusercontent.com&redirect_uri=urn%3aietf%3awg%3aoauth%3a2.0%3aoob&response_type=code&scope=email%20https%3a%2f%2fwww.googleapis.com%2fauth%2fdocs.test%20https%3a%2f%2fwww.googleapis.com%2fauth%2fdrive%20https%3a%2f%2fwww.googleapis.com%2fauth%2fdrive.photos.readonly%20https%3a%2f%2fwww.googleapis.com%2fauth%2fpeopleapi.readonly\n",
            "\n",
            "Enter your authorization code:\n",
            "··········\n",
            "Mounted at /content/gdrive\n"
          ],
          "name": "stdout"
        }
      ]
    },
    {
      "cell_type": "code",
      "metadata": {
        "id": "z8lUkI-33V1_",
        "colab_type": "code",
        "colab": {
          "base_uri": "https://localhost:8080/",
          "height": 206
        },
        "outputId": "95a02ebb-6e82-4925-e600-4e7315b50ce1"
      },
      "source": [
        "drug_train_full = pd.read_csv('/content/gdrive/My Drive/Data/kuc-hackathon-winter-2018/drugsComTrain_raw.csv')\n",
        "drug_test_full = pd.read_csv('/content/gdrive/My Drive/Data/kuc-hackathon-winter-2018/drugsComTest_raw.csv')\n",
        "drug_train_full.head()"
      ],
      "execution_count": 6,
      "outputs": [
        {
          "output_type": "execute_result",
          "data": {
            "text/html": [
              "<div>\n",
              "<style scoped>\n",
              "    .dataframe tbody tr th:only-of-type {\n",
              "        vertical-align: middle;\n",
              "    }\n",
              "\n",
              "    .dataframe tbody tr th {\n",
              "        vertical-align: top;\n",
              "    }\n",
              "\n",
              "    .dataframe thead th {\n",
              "        text-align: right;\n",
              "    }\n",
              "</style>\n",
              "<table border=\"1\" class=\"dataframe\">\n",
              "  <thead>\n",
              "    <tr style=\"text-align: right;\">\n",
              "      <th></th>\n",
              "      <th>uniqueID</th>\n",
              "      <th>drugName</th>\n",
              "      <th>condition</th>\n",
              "      <th>review</th>\n",
              "      <th>rating</th>\n",
              "      <th>date</th>\n",
              "      <th>usefulCount</th>\n",
              "    </tr>\n",
              "  </thead>\n",
              "  <tbody>\n",
              "    <tr>\n",
              "      <th>0</th>\n",
              "      <td>206461</td>\n",
              "      <td>Valsartan</td>\n",
              "      <td>Left Ventricular Dysfunction</td>\n",
              "      <td>\"It has no side effect, I take it in combinati...</td>\n",
              "      <td>9</td>\n",
              "      <td>20-May-12</td>\n",
              "      <td>27</td>\n",
              "    </tr>\n",
              "    <tr>\n",
              "      <th>1</th>\n",
              "      <td>95260</td>\n",
              "      <td>Guanfacine</td>\n",
              "      <td>ADHD</td>\n",
              "      <td>\"My son is halfway through his fourth week of ...</td>\n",
              "      <td>8</td>\n",
              "      <td>27-Apr-10</td>\n",
              "      <td>192</td>\n",
              "    </tr>\n",
              "    <tr>\n",
              "      <th>2</th>\n",
              "      <td>92703</td>\n",
              "      <td>Lybrel</td>\n",
              "      <td>Birth Control</td>\n",
              "      <td>\"I used to take another oral contraceptive, wh...</td>\n",
              "      <td>5</td>\n",
              "      <td>14-Dec-09</td>\n",
              "      <td>17</td>\n",
              "    </tr>\n",
              "    <tr>\n",
              "      <th>3</th>\n",
              "      <td>138000</td>\n",
              "      <td>Ortho Evra</td>\n",
              "      <td>Birth Control</td>\n",
              "      <td>\"This is my first time using any form of birth...</td>\n",
              "      <td>8</td>\n",
              "      <td>3-Nov-15</td>\n",
              "      <td>10</td>\n",
              "    </tr>\n",
              "    <tr>\n",
              "      <th>4</th>\n",
              "      <td>35696</td>\n",
              "      <td>Buprenorphine / naloxone</td>\n",
              "      <td>Opiate Dependence</td>\n",
              "      <td>\"Suboxone has completely turned my life around...</td>\n",
              "      <td>9</td>\n",
              "      <td>27-Nov-16</td>\n",
              "      <td>37</td>\n",
              "    </tr>\n",
              "  </tbody>\n",
              "</table>\n",
              "</div>"
            ],
            "text/plain": [
              "   uniqueID                  drugName  ...       date usefulCount\n",
              "0    206461                 Valsartan  ...  20-May-12          27\n",
              "1     95260                Guanfacine  ...  27-Apr-10         192\n",
              "2     92703                    Lybrel  ...  14-Dec-09          17\n",
              "3    138000                Ortho Evra  ...   3-Nov-15          10\n",
              "4     35696  Buprenorphine / naloxone  ...  27-Nov-16          37\n",
              "\n",
              "[5 rows x 7 columns]"
            ]
          },
          "metadata": {
            "tags": []
          },
          "execution_count": 6
        }
      ]
    },
    {
      "cell_type": "code",
      "metadata": {
        "id": "o-lPp-4X4A_3",
        "colab_type": "code",
        "colab": {
          "base_uri": "https://localhost:8080/",
          "height": 225
        },
        "outputId": "bffc1b14-1cae-4640-9665-5c2d3b83fa99"
      },
      "source": [
        "drug_train_full.condition.value_counts()"
      ],
      "execution_count": 7,
      "outputs": [
        {
          "output_type": "execute_result",
          "data": {
            "text/plain": [
              "Birth Control                                   28788\n",
              "Depression                                       9069\n",
              "Pain                                             6145\n",
              "Anxiety                                          5904\n",
              "Acne                                             5588\n",
              "                                                ...  \n",
              "34</span> users found this comment helpful.         1\n",
              "62</span> users found this comment helpful.         1\n",
              "Postoperative Increased Intraocular Pressure        1\n",
              "Infectious Diarrhea                                 1\n",
              "121</span> users found this comment helpful.        1\n",
              "Name: condition, Length: 884, dtype: int64"
            ]
          },
          "metadata": {
            "tags": []
          },
          "execution_count": 7
        }
      ]
    },
    {
      "cell_type": "code",
      "metadata": {
        "id": "INSeIQKP4URG",
        "colab_type": "code",
        "colab": {
          "base_uri": "https://localhost:8080/",
          "height": 225
        },
        "outputId": "40f1c747-0a10-4c0f-b761-f5e30de4e9d5"
      },
      "source": [
        "drug_test_full.condition.value_counts()"
      ],
      "execution_count": 8,
      "outputs": [
        {
          "output_type": "execute_result",
          "data": {
            "text/plain": [
              "Birth Control                  9648\n",
              "Depression                     3095\n",
              "Pain                           2100\n",
              "Anxiety                        1908\n",
              "Acne                           1847\n",
              "                               ... \n",
              "Gender Dysphoria                  1\n",
              "Cerebral Edema                    1\n",
              "Aspergillosis, Aspergilloma       1\n",
              "Dermatomyositis                   1\n",
              "Cyclitis                          1\n",
              "Name: condition, Length: 708, dtype: int64"
            ]
          },
          "metadata": {
            "tags": []
          },
          "execution_count": 8
        }
      ]
    },
    {
      "cell_type": "markdown",
      "metadata": {
        "id": "Kb4bJ97e4arC",
        "colab_type": "text"
      },
      "source": [
        "* Columns of interest: `review` and `condition`\n",
        "* Distribution of `Condition` (class) is uneven\n",
        "* As seen above, the *dataset is imbalanced*\n",
        "* We'll therefore consider classifying only the top 5 categories:\n",
        "    1. `Birth Control`\n",
        "    2. `Depression`\n",
        "    3. `Pain`\n",
        "    4. `Anxiety`\n",
        "    5. `Acne`\n",
        "    "
      ]
    },
    {
      "cell_type": "code",
      "metadata": {
        "id": "aBTShfCx4W2f",
        "colab_type": "code",
        "colab": {}
      },
      "source": [
        "def create_subset(data, classes_list, colname, subset_cols=None):\n",
        "    data = data.loc[data[colname].isin(classes_list)].copy()\n",
        "    if subset_cols:\n",
        "        return data[subset_cols]\n",
        "    return data\n"
      ],
      "execution_count": 0,
      "outputs": []
    },
    {
      "cell_type": "code",
      "metadata": {
        "id": "YE-fbS1x4ihP",
        "colab_type": "code",
        "colab": {}
      },
      "source": [
        "cls_list = ['Birth Control', 'Depression', 'Pain', 'Anxiety', 'Acne']\n",
        "\n",
        "drug_train = create_subset(drug_train_full, cls_list, 'condition', subset_cols=['condition', 'review'])\n",
        "drug_test = create_subset(drug_test_full, cls_list, 'condition', subset_cols=['condition', 'review'])"
      ],
      "execution_count": 0,
      "outputs": []
    },
    {
      "cell_type": "code",
      "metadata": {
        "id": "C-Xnndxb4kqh",
        "colab_type": "code",
        "colab": {
          "base_uri": "https://localhost:8080/",
          "height": 52
        },
        "outputId": "02ad43ba-0679-4447-d243-94da3ea78f03"
      },
      "source": [
        "print(\"Full shape:{train}{test}\".format(train=drug_train_full.shape, test=drug_test_full.shape))\n",
        "print(\"Shape:{train}{test}\".format(train=drug_train.shape, test=drug_test.shape))\n",
        "\n",
        "# shuffling the data\n",
        "drug_train = shuffle(drug_train)\n",
        "drug_train.reset_index(inplace=True, drop=True)"
      ],
      "execution_count": 11,
      "outputs": [
        {
          "output_type": "stream",
          "text": [
            "Full shape:(161297, 7)(53766, 7)\n",
            "Shape:(55494, 2)(18598, 2)\n"
          ],
          "name": "stdout"
        }
      ]
    },
    {
      "cell_type": "markdown",
      "metadata": {
        "id": "d6hlm7eb4w42",
        "colab_type": "text"
      },
      "source": [
        "**Data cleaning**\n",
        "- Basic data preprocessing is done here\n",
        "    - Lower case conversion\n",
        "    - Stop word removal\n",
        "    - Punctuation removal\n",
        "- Room for improvement - *incomplete*"
      ]
    },
    {
      "cell_type": "code",
      "metadata": {
        "id": "oxfRvyEW4pT_",
        "colab_type": "code",
        "colab": {
          "base_uri": "https://localhost:8080/",
          "height": 206
        },
        "outputId": "99919bf5-86fe-4b9f-ccd6-e7d911346b44"
      },
      "source": [
        "punctuations = string.punctuation\n",
        "foreign_chars =  ['“','”', '\"', '\"']\n",
        "\n",
        "stopwords = list(STOP_WORDS) + foreign_chars\n",
        "\n",
        "def spacy_cleanup(df,col):\n",
        "    df[col] = df[col].apply(lambda x: \" \".join([token.lower() for token in str(x).split()\n",
        "                                                if token not in stopwords and token not in punctuations]))\n",
        "    return df\n",
        "\n",
        "train = spacy_cleanup(drug_train.copy(), 'review')\n",
        "train.head()"
      ],
      "execution_count": 12,
      "outputs": [
        {
          "output_type": "execute_result",
          "data": {
            "text/html": [
              "<div>\n",
              "<style scoped>\n",
              "    .dataframe tbody tr th:only-of-type {\n",
              "        vertical-align: middle;\n",
              "    }\n",
              "\n",
              "    .dataframe tbody tr th {\n",
              "        vertical-align: top;\n",
              "    }\n",
              "\n",
              "    .dataframe thead th {\n",
              "        text-align: right;\n",
              "    }\n",
              "</style>\n",
              "<table border=\"1\" class=\"dataframe\">\n",
              "  <thead>\n",
              "    <tr style=\"text-align: right;\">\n",
              "      <th></th>\n",
              "      <th>condition</th>\n",
              "      <th>review</th>\n",
              "    </tr>\n",
              "  </thead>\n",
              "  <tbody>\n",
              "    <tr>\n",
              "      <th>0</th>\n",
              "      <td>Birth Control</td>\n",
              "      <td>\"i miscarriage went obgyn prescribed lolo. he ...</td>\n",
              "    </tr>\n",
              "    <tr>\n",
              "      <th>1</th>\n",
              "      <td>Birth Control</td>\n",
              "      <td>\"i got nexplanon bout 5 mouths ago works good ...</td>\n",
              "    </tr>\n",
              "    <tr>\n",
              "      <th>2</th>\n",
              "      <td>Birth Control</td>\n",
              "      <td>\"i&amp;#039;ve levora 3 months finally coming read...</td>\n",
              "    </tr>\n",
              "    <tr>\n",
              "      <th>3</th>\n",
              "      <td>Anxiety</td>\n",
              "      <td>\"awful drug. i year straight i comprehend anyt...</td>\n",
              "    </tr>\n",
              "    <tr>\n",
              "      <th>4</th>\n",
              "      <td>Depression</td>\n",
              "      <td>\"i taking 15mg night mirtazapine month. i know...</td>\n",
              "    </tr>\n",
              "  </tbody>\n",
              "</table>\n",
              "</div>"
            ],
            "text/plain": [
              "       condition                                             review\n",
              "0  Birth Control  \"i miscarriage went obgyn prescribed lolo. he ...\n",
              "1  Birth Control  \"i got nexplanon bout 5 mouths ago works good ...\n",
              "2  Birth Control  \"i&#039;ve levora 3 months finally coming read...\n",
              "3        Anxiety  \"awful drug. i year straight i comprehend anyt...\n",
              "4     Depression  \"i taking 15mg night mirtazapine month. i know..."
            ]
          },
          "metadata": {
            "tags": []
          },
          "execution_count": 12
        }
      ]
    },
    {
      "cell_type": "markdown",
      "metadata": {
        "id": "v872RZBI47J-",
        "colab_type": "text"
      },
      "source": [
        "##### Text Categorizer\n",
        "- Is added as a spacy pipeline component (with configurations)\n",
        "- Requires data to be prepared in a specific way. See `prepare_data` function"
      ]
    },
    {
      "cell_type": "code",
      "metadata": {
        "id": "nAnNC4GT41BU",
        "colab_type": "code",
        "colab": {}
      },
      "source": [
        "\"\"\"\n",
        "The training annotations (labels) have to be encoded as shown in the below dictionary.\n",
        "This is then fed to SpaCY's Text Categorizer for training.\n",
        "\"\"\"\n",
        "\n",
        "data_dict = {}\n",
        "for c in cls_list:\n",
        "    data_dict[c] = False\n",
        "    \n",
        "\"\"\"\n",
        "Text Categorizer is a component in the Language Model pipeline.\n",
        "A basic, pipeline consists of `tokenizer`, `ner`, `dependency parser` to which we include the `textcat` here.\n",
        "\n",
        "The architecture could be any one of \n",
        "\n",
        "\"bow\" (Bag-of-words)\n",
        "\"simple_cnn\" (A basic CNN)\n",
        "\"ensemble\" (Ensemble of BOW + CNN) -- most powerful!\n",
        "\n",
        "More info:\n",
        "\n",
        "https://spacy.io/usage/training#textcat\n",
        "https://spacy.io/api/textcategorizer\n",
        "\"\"\"\n",
        "textcat = model.create_pipe(\"textcat\", config={\"exclusive_classes\": True, \"architecture\": \"simple_cnn\"})\n",
        "model.add_pipe(textcat, last=True)\n",
        "\n",
        "for label in train.condition.unique():\n",
        "    textcat.add_label(label)"
      ],
      "execution_count": 0,
      "outputs": []
    },
    {
      "cell_type": "markdown",
      "metadata": {
        "id": "7zgwPNNr5NcK",
        "colab_type": "text"
      },
      "source": [
        "##### Data preparation for multi-class\n",
        "\n",
        "- The category/label against each text(`X`) should be a dictionary\n",
        "- Each text would have a corresponding dictionary of categories (as keys)\n",
        "- The actual label(`y`) for a text is identified by the category that's set to `True`"
      ]
    },
    {
      "cell_type": "code",
      "metadata": {
        "id": "UenNlCCh5GmF",
        "colab_type": "code",
        "colab": {}
      },
      "source": [
        "def prepare_data(texts, labels, default_dict, split=None):\n",
        "    \n",
        "    cats = []\n",
        "    \n",
        "    for label in labels:\n",
        "        if label in default_dict:\n",
        "            default_dict[label]=True\n",
        "        new_dict = dict(default_dict)\n",
        "        cats.append(new_dict)\n",
        "        default_dict[label] = False\n",
        "    if split is None:\n",
        "        return (texts, cats)\n",
        "    split = int(len(texts) * split)\n",
        "    return (texts[:split], cats[:split]), (texts[split:], cats[split:])"
      ],
      "execution_count": 0,
      "outputs": []
    },
    {
      "cell_type": "code",
      "metadata": {
        "id": "DuoEFk855Up_",
        "colab_type": "code",
        "colab": {
          "base_uri": "https://localhost:8080/",
          "height": 34
        },
        "outputId": "658a82b6-1597-4f65-9e5d-0b639e964eda"
      },
      "source": [
        "texts = list(train['review'])\n",
        "labels = list(train['condition'])\n",
        "\n",
        "(train_texts, train_cats), (val_texts, val_cats) = prepare_data(texts, labels, data_dict, split=0.8)   \n",
        "\n",
        "print(\"Training set size: {}, validation set size: {}\".format(len(train_texts), len(val_texts)))\n",
        "\n",
        "train_data = list(zip(train_texts, [{\"cats\": cats} for cats in train_cats]))\n",
        "val_data = list(zip(val_texts, [{\"cats\": cats} for cats in val_cats]))"
      ],
      "execution_count": 15,
      "outputs": [
        {
          "output_type": "stream",
          "text": [
            "Training set size: 44395, validation set size: 11099\n"
          ],
          "name": "stdout"
        }
      ]
    },
    {
      "cell_type": "code",
      "metadata": {
        "id": "D7OheFTe5XHQ",
        "colab_type": "code",
        "colab": {}
      },
      "source": [
        "def simple_eval(model, val_texts, val_cats):\n",
        "    score = 0\n",
        "    for X,y in zip(val_texts, val_cats):\n",
        "        \n",
        "        pred = model(X)\n",
        "        y_pred = max(pred.cats, key=pred.cats.get)\n",
        "        if y['cats'][y_pred] == True:\n",
        "            score +=1\n",
        "        \n",
        "    return np.float32(score / len(val_texts))\n"
      ],
      "execution_count": 0,
      "outputs": []
    },
    {
      "cell_type": "code",
      "metadata": {
        "id": "SHPK3vVM5Zhs",
        "colab_type": "code",
        "colab": {
          "base_uri": "https://localhost:8080/",
          "height": 486
        },
        "outputId": "f59472a6-d536-4561-bdc1-a03146af5be2"
      },
      "source": [
        "N_ITER = 10\n",
        "\n",
        "pipe_exceptions = [\"textcat\"]\n",
        "other_pipes = [pipe for pipe in model.pipe_names if pipe not in pipe_exceptions]\n",
        "\n",
        "\n",
        "with(model.disable_pipes(*other_pipes)):\n",
        "    optimizer = model.begin_training()\n",
        "    \n",
        "    print(\"Training the model...\")\n",
        "    \n",
        "    batch_sizes = compounding(4.0, 32.0, 1.001)\n",
        "    all_losses = []\n",
        "    for i in range(N_ITER):\n",
        "        \n",
        "        losses = {}\n",
        "        random.shuffle(train_data)\n",
        "        batches = minibatch(train_data, size=batch_sizes)\n",
        "        \n",
        "        for batch in batches:\n",
        "            texts, annotations = zip(*batch)\n",
        "            model.update(texts, annotations, sgd=optimizer, drop=0.2, losses=losses)\n",
        "            acc = simple_eval(model, texts, annotations)\n",
        "\n",
        "        print(\"Iter #{}\\t\\tTraining Loss: {}\\tTraining Acc: {}\".format(i, losses['textcat'], acc))    \n",
        "        all_losses.append(losses['textcat'])\n",
        "    \n",
        "    plt.title('Training Loss curve')\n",
        "    plt.plot(range(0,N_ITER), all_losses, 'go--')\n",
        "    plt.xlim((0,20))\n",
        "    plt.ylim((0,max(all_losses)))\n",
        "    plt.xlabel('Iterations')\n",
        "    plt.ylabel('Loss')\n",
        "    plt.show()\n",
        "\n",
        "        "
      ],
      "execution_count": 17,
      "outputs": [
        {
          "output_type": "stream",
          "text": [
            "Training the model...\n",
            "Iter #0\t\tTraining Loss: 14.084883855412954\tTraining Acc: 0.95652174949646\n",
            "Iter #1\t\tTraining Loss: 0.16096213638502377\tTraining Acc: 0.9090909361839294\n",
            "Iter #2\t\tTraining Loss: 0.13926268653131046\tTraining Acc: 1.0\n",
            "Iter #3\t\tTraining Loss: 0.12574984532619737\tTraining Acc: 0.9090909361839294\n",
            "Iter #4\t\tTraining Loss: 0.11119573119708548\tTraining Acc: 0.9090909361839294\n",
            "Iter #5\t\tTraining Loss: 0.1028192067260818\tTraining Acc: 0.9090909361839294\n",
            "Iter #6\t\tTraining Loss: 0.08814596283984244\tTraining Acc: 1.0\n",
            "Iter #7\t\tTraining Loss: 0.08183947423086124\tTraining Acc: 0.9090909361839294\n",
            "Iter #8\t\tTraining Loss: 0.07308641837910557\tTraining Acc: 1.0\n",
            "Iter #9\t\tTraining Loss: 0.06776234113414503\tTraining Acc: 1.0\n"
          ],
          "name": "stdout"
        },
        {
          "output_type": "display_data",
          "data": {
            "image/png": "[encoded data removed]",
            "text/plain": [
              "<Figure size 432x288 with 1 Axes>"
            ]
          },
          "metadata": {
            "tags": []
          }
        }
      ]
    },
    {
      "cell_type": "code",
      "metadata": {
        "id": "WA9jqSjm5cOB",
        "colab_type": "code",
        "colab": {
          "base_uri": "https://localhost:8080/",
          "height": 34
        },
        "outputId": "e6c67075-bbde-4291-e4fc-45446bbe5833"
      },
      "source": [
        "val_texts, val_cats = zip(*val_data)\n",
        "\n",
        "score = simple_eval(model, val_texts, val_cats)\n",
        "print(\"Evaluation accuracy on validation set: {} %\".format(round(score * 100,2)))"
      ],
      "execution_count": 18,
      "outputs": [
        {
          "output_type": "stream",
          "text": [
            "Evaluation accuracy on validation set: 93.95 %\n"
          ],
          "name": "stdout"
        }
      ]
    },
    {
      "cell_type": "markdown",
      "metadata": {
        "id": "Ogsy0MUt5f-F",
        "colab_type": "text"
      },
      "source": [
        "**Let's see how the Precision/Recall/F-scores are for Training data itself**"
      ]
    },
    {
      "cell_type": "code",
      "metadata": {
        "id": "rGvu3vEc5i0w",
        "colab_type": "code",
        "colab": {
          "base_uri": "https://localhost:8080/",
          "height": 224
        },
        "outputId": "165f152e-3811-4667-cb9d-45bdb2e24acf"
      },
      "source": [
        "# using the built-in model scoring function\n",
        "scorer = model.evaluate(train_data, verbose=False)\n",
        "print(\"Score:{}\".format(scorer.scores['textcat_score']))\n",
        "\n",
        "scores_per_cat = pd.DataFrame(scorer.scores['textcats_per_cat']).transpose()\n",
        "scores_per_cat.columns = ['Precision', 'Recall', 'F-Score']\n",
        "scores_per_cat.head(5)"
      ],
      "execution_count": 19,
      "outputs": [
        {
          "output_type": "stream",
          "text": [
            "Score:97.97182746945896\n"
          ],
          "name": "stdout"
        },
        {
          "output_type": "execute_result",
          "data": {
            "text/html": [
              "<div>\n",
              "<style scoped>\n",
              "    .dataframe tbody tr th:only-of-type {\n",
              "        vertical-align: middle;\n",
              "    }\n",
              "\n",
              "    .dataframe tbody tr th {\n",
              "        vertical-align: top;\n",
              "    }\n",
              "\n",
              "    .dataframe thead th {\n",
              "        text-align: right;\n",
              "    }\n",
              "</style>\n",
              "<table border=\"1\" class=\"dataframe\">\n",
              "  <thead>\n",
              "    <tr style=\"text-align: right;\">\n",
              "      <th></th>\n",
              "      <th>Precision</th>\n",
              "      <th>Recall</th>\n",
              "      <th>F-Score</th>\n",
              "    </tr>\n",
              "  </thead>\n",
              "  <tbody>\n",
              "    <tr>\n",
              "      <th>Birth Control</th>\n",
              "      <td>99.390929</td>\n",
              "      <td>99.830788</td>\n",
              "      <td>99.610373</td>\n",
              "    </tr>\n",
              "    <tr>\n",
              "      <th>Anxiety</th>\n",
              "      <td>95.225131</td>\n",
              "      <td>96.559779</td>\n",
              "      <td>95.887811</td>\n",
              "    </tr>\n",
              "    <tr>\n",
              "      <th>Depression</th>\n",
              "      <td>97.499655</td>\n",
              "      <td>97.257820</td>\n",
              "      <td>97.378587</td>\n",
              "    </tr>\n",
              "    <tr>\n",
              "      <th>Pain</th>\n",
              "      <td>99.042770</td>\n",
              "      <td>98.861557</td>\n",
              "      <td>98.952081</td>\n",
              "    </tr>\n",
              "    <tr>\n",
              "      <th>Acne</th>\n",
              "      <td>99.629715</td>\n",
              "      <td>96.481398</td>\n",
              "      <td>98.030286</td>\n",
              "    </tr>\n",
              "  </tbody>\n",
              "</table>\n",
              "</div>"
            ],
            "text/plain": [
              "               Precision     Recall    F-Score\n",
              "Birth Control  99.390929  99.830788  99.610373\n",
              "Anxiety        95.225131  96.559779  95.887811\n",
              "Depression     97.499655  97.257820  97.378587\n",
              "Pain           99.042770  98.861557  98.952081\n",
              "Acne           99.629715  96.481398  98.030286"
            ]
          },
          "metadata": {
            "tags": []
          },
          "execution_count": 19
        }
      ]
    },
    {
      "cell_type": "markdown",
      "metadata": {
        "id": "x6QFO9-G5r3T",
        "colab_type": "text"
      },
      "source": [
        "- Above metrics suggest possible overfitting\n",
        "- The present test dataset is insufficient to establish this argument though\n",
        "\n",
        "##### Here's some independent test data"
      ]
    },
    {
      "cell_type": "code",
      "metadata": {
        "id": "G1MkAzUo5ss4",
        "colab_type": "code",
        "colab": {
          "base_uri": "https://localhost:8080/",
          "height": 206
        },
        "outputId": "39efa318-1331-4595-80dd-56ba26391229"
      },
      "source": [
        "drug_test.head()"
      ],
      "execution_count": 20,
      "outputs": [
        {
          "output_type": "execute_result",
          "data": {
            "text/html": [
              "<div>\n",
              "<style scoped>\n",
              "    .dataframe tbody tr th:only-of-type {\n",
              "        vertical-align: middle;\n",
              "    }\n",
              "\n",
              "    .dataframe tbody tr th {\n",
              "        vertical-align: top;\n",
              "    }\n",
              "\n",
              "    .dataframe thead th {\n",
              "        text-align: right;\n",
              "    }\n",
              "</style>\n",
              "<table border=\"1\" class=\"dataframe\">\n",
              "  <thead>\n",
              "    <tr style=\"text-align: right;\">\n",
              "      <th></th>\n",
              "      <th>condition</th>\n",
              "      <th>review</th>\n",
              "    </tr>\n",
              "  </thead>\n",
              "  <tbody>\n",
              "    <tr>\n",
              "      <th>0</th>\n",
              "      <td>Depression</td>\n",
              "      <td>\"I&amp;#039;ve tried a few antidepressants over th...</td>\n",
              "    </tr>\n",
              "    <tr>\n",
              "      <th>4</th>\n",
              "      <td>Birth Control</td>\n",
              "      <td>\"I have been on this birth control for one cyc...</td>\n",
              "    </tr>\n",
              "    <tr>\n",
              "      <th>6</th>\n",
              "      <td>Birth Control</td>\n",
              "      <td>\"I&amp;#039;ve had the copper coil for about 3 mon...</td>\n",
              "    </tr>\n",
              "    <tr>\n",
              "      <th>9</th>\n",
              "      <td>Birth Control</td>\n",
              "      <td>\"I was on this pill for almost two years. It d...</td>\n",
              "    </tr>\n",
              "    <tr>\n",
              "      <th>17</th>\n",
              "      <td>Acne</td>\n",
              "      <td>\"So I was on Ginanvi for about 3 months before...</td>\n",
              "    </tr>\n",
              "  </tbody>\n",
              "</table>\n",
              "</div>"
            ],
            "text/plain": [
              "        condition                                             review\n",
              "0      Depression  \"I&#039;ve tried a few antidepressants over th...\n",
              "4   Birth Control  \"I have been on this birth control for one cyc...\n",
              "6   Birth Control  \"I&#039;ve had the copper coil for about 3 mon...\n",
              "9   Birth Control  \"I was on this pill for almost two years. It d...\n",
              "17           Acne  \"So I was on Ginanvi for about 3 months before..."
            ]
          },
          "metadata": {
            "tags": []
          },
          "execution_count": 20
        }
      ]
    },
    {
      "cell_type": "code",
      "metadata": {
        "id": "_qDsSk4X5vpT",
        "colab_type": "code",
        "colab": {
          "base_uri": "https://localhost:8080/",
          "height": 224
        },
        "outputId": "f535ed81-8d6f-40ec-bfd1-d82d6db125a5"
      },
      "source": [
        "test = spacy_cleanup(drug_test.copy(), 'review')\n",
        "\n",
        "test_texts = list(test['review'])\n",
        "test_labels = list(test['condition'])\n",
        "\n",
        "(test_texts, test_cats) = prepare_data(test_texts, test_labels, data_dict)\n",
        "test_data = list(zip(test_texts, [{\"cats\": cats} for cats in test_cats]))\n",
        "\n",
        "# using the built-in model scoring function\n",
        "scorer = model.evaluate(test_data, verbose=False)\n",
        "print(\"Test score:{}\".format(scorer.scores['textcat_score']))\n",
        "\n",
        "scores_per_cat = pd.DataFrame(scorer.scores['textcats_per_cat']).transpose()\n",
        "scores_per_cat.columns = ['Precision', 'Recall', 'F-Score']\n",
        "scores_per_cat.head(5)"
      ],
      "execution_count": 21,
      "outputs": [
        {
          "output_type": "stream",
          "text": [
            "Test score:91.19535996359043\n"
          ],
          "name": "stdout"
        },
        {
          "output_type": "execute_result",
          "data": {
            "text/html": [
              "<div>\n",
              "<style scoped>\n",
              "    .dataframe tbody tr th:only-of-type {\n",
              "        vertical-align: middle;\n",
              "    }\n",
              "\n",
              "    .dataframe tbody tr th {\n",
              "        vertical-align: top;\n",
              "    }\n",
              "\n",
              "    .dataframe thead th {\n",
              "        text-align: right;\n",
              "    }\n",
              "</style>\n",
              "<table border=\"1\" class=\"dataframe\">\n",
              "  <thead>\n",
              "    <tr style=\"text-align: right;\">\n",
              "      <th></th>\n",
              "      <th>Precision</th>\n",
              "      <th>Recall</th>\n",
              "      <th>F-Score</th>\n",
              "    </tr>\n",
              "  </thead>\n",
              "  <tbody>\n",
              "    <tr>\n",
              "      <th>Birth Control</th>\n",
              "      <td>98.236386</td>\n",
              "      <td>98.725124</td>\n",
              "      <td>98.480149</td>\n",
              "    </tr>\n",
              "    <tr>\n",
              "      <th>Anxiety</th>\n",
              "      <td>81.780105</td>\n",
              "      <td>81.865828</td>\n",
              "      <td>81.822944</td>\n",
              "    </tr>\n",
              "    <tr>\n",
              "      <th>Depression</th>\n",
              "      <td>87.744000</td>\n",
              "      <td>88.594507</td>\n",
              "      <td>88.167203</td>\n",
              "    </tr>\n",
              "    <tr>\n",
              "      <th>Pain</th>\n",
              "      <td>93.717525</td>\n",
              "      <td>94.476190</td>\n",
              "      <td>94.095328</td>\n",
              "    </tr>\n",
              "    <tr>\n",
              "      <th>Acne</th>\n",
              "      <td>96.000000</td>\n",
              "      <td>90.958311</td>\n",
              "      <td>93.411176</td>\n",
              "    </tr>\n",
              "  </tbody>\n",
              "</table>\n",
              "</div>"
            ],
            "text/plain": [
              "               Precision     Recall    F-Score\n",
              "Birth Control  98.236386  98.725124  98.480149\n",
              "Anxiety        81.780105  81.865828  81.822944\n",
              "Depression     87.744000  88.594507  88.167203\n",
              "Pain           93.717525  94.476190  94.095328\n",
              "Acne           96.000000  90.958311  93.411176"
            ]
          },
          "metadata": {
            "tags": []
          },
          "execution_count": 21
        }
      ]
    }
  ]
}